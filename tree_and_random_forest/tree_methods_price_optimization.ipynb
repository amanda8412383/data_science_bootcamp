{
 "cells": [
  {
   "cell_type": "code",
   "execution_count": 2,
   "id": "690c766f",
   "metadata": {},
   "outputs": [],
   "source": [
    "import pandas as pd\n",
    "import seaborn as sns\n",
    "import matplotlib.pyplot as plt\n",
    "import numpy as np\n",
    "\n",
    "from sklearn.preprocessing import StandardScaler\n",
    "from sklearn.model_selection import train_test_split\n",
    "from sklearn.linear_model import LinearRegression\n",
    "from sklearn.dummy import DummyRegressor\n",
    "from sklearn.metrics import r2_score, mean_squared_error\n",
    "from sklearn.ensemble import RandomForestRegressor\n",
    "\n",
    "from sklearn.ensemble import GradientBoostingClassifier, GradientBoostingRegressor\n",
    "from sklearn.tree import DecisionTreeRegressor\n",
    "\n",
    "\n"
   ]
  },
  {
   "cell_type": "code",
   "execution_count": 3,
   "id": "29e5c639",
   "metadata": {},
   "outputs": [
    {
     "data": {
      "text/html": [
       "<div>\n",
       "<style scoped>\n",
       "    .dataframe tbody tr th:only-of-type {\n",
       "        vertical-align: middle;\n",
       "    }\n",
       "\n",
       "    .dataframe tbody tr th {\n",
       "        vertical-align: top;\n",
       "    }\n",
       "\n",
       "    .dataframe thead th {\n",
       "        text-align: right;\n",
       "    }\n",
       "</style>\n",
       "<table border=\"1\" class=\"dataframe\">\n",
       "  <thead>\n",
       "    <tr style=\"text-align: right;\">\n",
       "      <th></th>\n",
       "      <th>brand</th>\n",
       "      <th>flavour</th>\n",
       "      <th>volume_per_joghurt_g</th>\n",
       "      <th>packsize</th>\n",
       "      <th>product_id</th>\n",
       "      <th>Unnamed: 0</th>\n",
       "      <th>date</th>\n",
       "      <th>price</th>\n",
       "      <th>units</th>\n",
       "      <th>weekday</th>\n",
       "      <th>weight</th>\n",
       "    </tr>\n",
       "  </thead>\n",
       "  <tbody>\n",
       "    <tr>\n",
       "      <th>0</th>\n",
       "      <td>Mueller</td>\n",
       "      <td>blueberry</td>\n",
       "      <td>150</td>\n",
       "      <td>6</td>\n",
       "      <td>0</td>\n",
       "      <td>0</td>\n",
       "      <td>2020-01-01</td>\n",
       "      <td>4.65</td>\n",
       "      <td>1126.0</td>\n",
       "      <td>Wednesday</td>\n",
       "      <td>1013400.0</td>\n",
       "    </tr>\n",
       "    <tr>\n",
       "      <th>1</th>\n",
       "      <td>Mueller</td>\n",
       "      <td>blueberry</td>\n",
       "      <td>150</td>\n",
       "      <td>6</td>\n",
       "      <td>0</td>\n",
       "      <td>1</td>\n",
       "      <td>2020-01-02</td>\n",
       "      <td>4.76</td>\n",
       "      <td>1205.0</td>\n",
       "      <td>Thursday</td>\n",
       "      <td>1084500.0</td>\n",
       "    </tr>\n",
       "    <tr>\n",
       "      <th>2</th>\n",
       "      <td>Mueller</td>\n",
       "      <td>blueberry</td>\n",
       "      <td>150</td>\n",
       "      <td>6</td>\n",
       "      <td>0</td>\n",
       "      <td>2</td>\n",
       "      <td>2020-01-03</td>\n",
       "      <td>5.22</td>\n",
       "      <td>1007.0</td>\n",
       "      <td>Friday</td>\n",
       "      <td>906300.0</td>\n",
       "    </tr>\n",
       "    <tr>\n",
       "      <th>3</th>\n",
       "      <td>Mueller</td>\n",
       "      <td>blueberry</td>\n",
       "      <td>150</td>\n",
       "      <td>6</td>\n",
       "      <td>0</td>\n",
       "      <td>3</td>\n",
       "      <td>2020-01-04</td>\n",
       "      <td>5.45</td>\n",
       "      <td>1282.0</td>\n",
       "      <td>Saturday</td>\n",
       "      <td>1153800.0</td>\n",
       "    </tr>\n",
       "    <tr>\n",
       "      <th>4</th>\n",
       "      <td>Mueller</td>\n",
       "      <td>blueberry</td>\n",
       "      <td>150</td>\n",
       "      <td>6</td>\n",
       "      <td>0</td>\n",
       "      <td>4</td>\n",
       "      <td>2020-01-05</td>\n",
       "      <td>3.33</td>\n",
       "      <td>1037.0</td>\n",
       "      <td>Sunday</td>\n",
       "      <td>933300.0</td>\n",
       "    </tr>\n",
       "  </tbody>\n",
       "</table>\n",
       "</div>"
      ],
      "text/plain": [
       "     brand    flavour  volume_per_joghurt_g  packsize  product_id  Unnamed: 0  \\\n",
       "0  Mueller  blueberry                   150         6           0           0   \n",
       "1  Mueller  blueberry                   150         6           0           1   \n",
       "2  Mueller  blueberry                   150         6           0           2   \n",
       "3  Mueller  blueberry                   150         6           0           3   \n",
       "4  Mueller  blueberry                   150         6           0           4   \n",
       "\n",
       "         date  price   units    weekday     weight  \n",
       "0  2020-01-01   4.65  1126.0  Wednesday  1013400.0  \n",
       "1  2020-01-02   4.76  1205.0   Thursday  1084500.0  \n",
       "2  2020-01-03   5.22  1007.0     Friday   906300.0  \n",
       "3  2020-01-04   5.45  1282.0   Saturday  1153800.0  \n",
       "4  2020-01-05   3.33  1037.0     Sunday   933300.0  "
      ]
     },
     "execution_count": 3,
     "metadata": {},
     "output_type": "execute_result"
    }
   ],
   "source": [
    "df = pd.read_csv('df.csv')\n",
    "df.head()"
   ]
  },
  {
   "cell_type": "code",
   "execution_count": 4,
   "id": "8c8c8b21",
   "metadata": {},
   "outputs": [],
   "source": [
    "class random_forest():\n",
    "\n",
    "    def __init__(self):\n",
    "        self.reg = None\n",
    "\n",
    "    def pred(self, x):\n",
    "        if self.reg is None:\n",
    "            raise ValueError(\"train the model first\")\n",
    "        else:\n",
    "            self.reg.predict(x)\n",
    "        return self.reg.predict(x)\n",
    "\n",
    "    def random_forest_on_units(self, x):\n",
    "\n",
    "        #def y\n",
    "        y = df[['units']]\n",
    "\n",
    "\n",
    "        #skip standardization bcs it's unnecessary for tree based models\n",
    "        #test train split\n",
    "        X_train, X_test, y_train, y_test = train_test_split(x, y, test_size=0.2, random_state=42)\n",
    "\n",
    "        #fit model\n",
    "        self.reg  = RandomForestRegressor(n_estimators=100, random_state=42)\n",
    "        self.reg.fit(X_train, y_train)\n",
    "\n",
    "        preds = self.reg.predict(X_test)\n",
    "\n",
    "        mse = mean_squared_error(y_test, preds)\n",
    "        r2 = r2_score(y_test, preds)\n",
    "\n",
    "        \n",
    "\n",
    "\n",
    "        print(f\"MSE: {mse:.3f}\\n\")\n",
    "        print(f\"R^2: {r2:.3f}\\n\")\n",
    "        print(f\"accuracy: {self.reg.score(X_test, y_test):.3f}\\n\")\n",
    "        print(self.reg.feature_importances_)\n",
    "\n",
    "\n",
    "\n"
   ]
  },
  {
   "cell_type": "code",
   "execution_count": 5,
   "id": "2371fac8",
   "metadata": {},
   "outputs": [],
   "source": [
    "x1 = df[['price']]\n",
    "y = df[['units']]"
   ]
  },
  {
   "cell_type": "code",
   "execution_count": 6,
   "id": "357adf67",
   "metadata": {},
   "outputs": [
    {
     "name": "stderr",
     "output_type": "stream",
     "text": [
      "c:\\Users\\test\\AppData\\Local\\Programs\\Python\\Python312\\Lib\\site-packages\\sklearn\\base.py:1389: DataConversionWarning: A column-vector y was passed when a 1d array was expected. Please change the shape of y to (n_samples,), for example using ravel().\n",
      "  return fit_method(estimator, *args, **kwargs)\n"
     ]
    },
    {
     "name": "stdout",
     "output_type": "stream",
     "text": [
      "MSE: 135833.616\n",
      "\n",
      "R^2: 0.307\n",
      "\n",
      "accuracy: 0.307\n",
      "\n",
      "[1.]\n"
     ]
    }
   ],
   "source": [
    "rf_x1 = random_forest()\n",
    "rf_x1.random_forest_on_units(x1)"
   ]
  },
  {
   "cell_type": "code",
   "execution_count": 7,
   "id": "d87048b0",
   "metadata": {},
   "outputs": [],
   "source": [
    "x2 = df[['brand', 'flavour', 'volume_per_joghurt_g', 'packsize', 'price']]\n",
    "x3 = df[['brand', 'flavour',  'price']]\n",
    "\n",
    "dummy_df = pd.get_dummies(x3, columns=['brand', 'flavour'], drop_first=True)"
   ]
  },
  {
   "cell_type": "code",
   "execution_count": 8,
   "id": "009aaa46",
   "metadata": {},
   "outputs": [
    {
     "name": "stderr",
     "output_type": "stream",
     "text": [
      "c:\\Users\\test\\AppData\\Local\\Programs\\Python\\Python312\\Lib\\site-packages\\sklearn\\base.py:1389: DataConversionWarning: A column-vector y was passed when a 1d array was expected. Please change the shape of y to (n_samples,), for example using ravel().\n",
      "  return fit_method(estimator, *args, **kwargs)\n"
     ]
    },
    {
     "name": "stdout",
     "output_type": "stream",
     "text": [
      "MSE: 41938.957\n",
      "\n",
      "R^2: 0.786\n",
      "\n",
      "accuracy: 0.786\n",
      "\n",
      "[0.75513195 0.02226854 0.0085416  0.00991372 0.00610091 0.00729324\n",
      " 0.03298408 0.01183795 0.01014182 0.05367989 0.00748972 0.06415384\n",
      " 0.01046274]\n"
     ]
    }
   ],
   "source": [
    "rf_xn = random_forest()\n",
    "rf_xn.random_forest_on_units(dummy_df)\n"
   ]
  },
  {
   "cell_type": "code",
   "execution_count": 28,
   "id": "f0d9349c",
   "metadata": {},
   "outputs": [],
   "source": [
    "\n",
    "class gradient_boosting():\n",
    "\n",
    "    def __init__(self):\n",
    "        self.reg = None\n",
    "\n",
    "    def pred(self, x):\n",
    "        if self.reg is None:\n",
    "            raise ValueError(\"train the model first\")\n",
    "        else:\n",
    "            self.reg.predict(x)\n",
    "        return self.reg.predict(x)\n",
    "\n",
    "    def gradient_boosting_on_units(self, x):\n",
    "\n",
    "        #def y\n",
    "        y = df[['units']]\n",
    "\n",
    "\n",
    "        #skip standardization bcs it's unnecessary for tree based models\n",
    "        #test train split\n",
    "        X_train, X_test, y_train, y_test = train_test_split(x, y, test_size=0.2, random_state=42)\n",
    "\n",
    "        #fit model\n",
    "        self.reg = GradientBoostingRegressor(n_estimators=100, max_depth=3, learning_rate=0.1, random_state=42)\n",
    "        self.reg.fit(X_train, y_train)\n",
    "\n",
    "\n",
    "        preds = self.reg.predict(X_test)\n",
    "\n",
    "        mse = mean_squared_error(y_test, preds)\n",
    "        r2 = r2_score(y_test, preds)\n",
    "\n",
    "        \n",
    "\n",
    "\n",
    "\n",
    "        print(f\"MSE: {mse:.3f}\\n\")\n",
    "        print(f\"R^2: {r2:.3f}\\n\")\n",
    "        print(f\"accuracy: {self.reg.score(X_test, y_test):.3f}\\n\")\n",
    "        print(self.reg.feature_importances_)\n",
    "\n",
    "\n",
    "\n",
    "\n"
   ]
  },
  {
   "cell_type": "code",
   "execution_count": 29,
   "id": "07ea7592",
   "metadata": {},
   "outputs": [
    {
     "name": "stdout",
     "output_type": "stream",
     "text": [
      "MSE: 114888.706\n",
      "\n",
      "R^2: 0.414\n",
      "\n",
      "accuracy: 0.414\n",
      "\n",
      "[1.]\n"
     ]
    },
    {
     "name": "stderr",
     "output_type": "stream",
     "text": [
      "c:\\Users\\test\\AppData\\Local\\Programs\\Python\\Python312\\Lib\\site-packages\\sklearn\\ensemble\\_gb.py:672: DataConversionWarning: A column-vector y was passed when a 1d array was expected. Please change the shape of y to (n_samples, ), for example using ravel().\n",
      "  y = column_or_1d(y, warn=True)  # TODO: Is this still required?\n"
     ]
    }
   ],
   "source": [
    "gb_x1 = gradient_boosting()\n",
    "gb_x1.gradient_boosting_on_units(x1)"
   ]
  },
  {
   "cell_type": "code",
   "execution_count": 30,
   "id": "25fafb91",
   "metadata": {},
   "outputs": [
    {
     "name": "stdout",
     "output_type": "stream",
     "text": [
      "MSE: 37060.266\n",
      "\n",
      "R^2: 0.811\n",
      "\n",
      "accuracy: 0.811\n",
      "\n",
      "[7.54278985e-01 1.57811567e-02 2.84727396e-03 8.02366835e-03\n",
      " 2.92251921e-04 1.38189757e-03 3.19199139e-02 4.74194096e-03\n",
      " 6.20566613e-03 7.66796679e-02 2.16466625e-03 9.52386012e-02\n",
      " 4.44310293e-04]\n"
     ]
    },
    {
     "name": "stderr",
     "output_type": "stream",
     "text": [
      "c:\\Users\\test\\AppData\\Local\\Programs\\Python\\Python312\\Lib\\site-packages\\sklearn\\ensemble\\_gb.py:672: DataConversionWarning: A column-vector y was passed when a 1d array was expected. Please change the shape of y to (n_samples, ), for example using ravel().\n",
      "  y = column_or_1d(y, warn=True)  # TODO: Is this still required?\n"
     ]
    }
   ],
   "source": [
    "gb_xn = gradient_boosting()\n",
    "gb_xn.gradient_boosting_on_units(dummy_df)\n"
   ]
  },
  {
   "cell_type": "code",
   "execution_count": 22,
   "id": "e6ff145a",
   "metadata": {},
   "outputs": [],
   "source": [
    "\n",
    "class decision_tree():\n",
    "\n",
    "    def __init__(self):\n",
    "        self.reg = None\n",
    "\n",
    "    def pred(self, x):\n",
    "        if self.reg is None:\n",
    "            raise ValueError(\"train the model first\")\n",
    "        else:\n",
    "            self.reg.predict(x)\n",
    "        return self.reg.predict(x)\n",
    "\n",
    "    def decision_tree_on_units(self, x):\n",
    "\n",
    "        #def y\n",
    "        y = df[['units']]\n",
    "\n",
    "\n",
    "        #skip standardization bcs it's unnecessary for tree based models\n",
    "        #test train split\n",
    "        X_train, X_test, y_train, y_test = train_test_split(x, y, test_size=0.2, random_state=42)\n",
    "\n",
    "        #fit model\n",
    "        self.reg = DecisionTreeRegressor(max_depth=2, random_state=42)\n",
    "        self.reg.fit(X_train, y_train)\n",
    "\n",
    "\n",
    "        preds = self.reg.predict(X_test)\n",
    "\n",
    "        mse = mean_squared_error(y_test, preds)\n",
    "        r2 = r2_score(y_test, preds)\n",
    "\n",
    "        \n",
    "\n",
    "\n",
    "        print(f\"MSE: {mse:.3f}\\n\")\n",
    "        print(f\"R^2: {r2:.3f}\\n\")\n",
    "        print(f\"accuracy: {self.reg.score(X_test, y_test):.3f}\\n\")\n",
    "        print(self.reg.feature_importances_)\n",
    "\n",
    "\n",
    "\n",
    "\n",
    "\n"
   ]
  },
  {
   "cell_type": "code",
   "execution_count": 13,
   "id": "a05625ff",
   "metadata": {},
   "outputs": [
    {
     "name": "stdout",
     "output_type": "stream",
     "text": [
      "MSE: 84074.664\n",
      "\n",
      "R^2: 0.571\n",
      "\n",
      "[1.]\n"
     ]
    }
   ],
   "source": [
    "tree_x1 = decision_tree()\n",
    "tree_x1.decision_tree_on_units(x1)"
   ]
  },
  {
   "cell_type": "code",
   "execution_count": 14,
   "id": "8960e71a",
   "metadata": {},
   "outputs": [
    {
     "name": "stdout",
     "output_type": "stream",
     "text": [
      "MSE: 71943.707\n",
      "\n",
      "R^2: 0.633\n",
      "\n",
      "[0.91537258 0.         0.         0.         0.         0.\n",
      " 0.08462742 0.         0.         0.         0.         0.\n",
      " 0.        ]\n"
     ]
    }
   ],
   "source": [
    "tree_xn = decision_tree()\n",
    "tree_xn.decision_tree_on_units(dummy_df)"
   ]
  },
  {
   "cell_type": "code",
   "execution_count": 15,
   "id": "7ffb7890",
   "metadata": {},
   "outputs": [],
   "source": [
    "#to do\n",
    "#dynamic pricing\n",
    "#fine tune gradient boosting\n",
    "#how does industry do it"
   ]
  },
  {
   "cell_type": "markdown",
   "id": "2a47e479",
   "metadata": {},
   "source": [
    "### price optimization"
   ]
  },
  {
   "cell_type": "code",
   "execution_count": 16,
   "id": "7d8ddae3",
   "metadata": {},
   "outputs": [],
   "source": [
    "def generate_price_data(brand, flavour, price_range, df):\n",
    "\n",
    "\n",
    "# simulation of price data for Müller and chocolate flavor\n",
    "    base_case = df.min().copy()\n",
    "    base_case[brand] = 1\n",
    "    base_case[flavour] = 1\n",
    "\n",
    "    price_list = []\n",
    "\n",
    "    for price in price_range:\n",
    "        row = base_case.copy()\n",
    "        row['price'] = price\n",
    "        price_list.append(row)\n",
    "\n",
    "\n",
    "\n",
    "    return pd.DataFrame(price_list)\n",
    "price_df = generate_price_data(\"brand_Mueller\", \"flavour_chocolate\", np.linspace(1, 10, 100), dummy_df)"
   ]
  },
  {
   "cell_type": "code",
   "execution_count": 17,
   "id": "7bbec2df",
   "metadata": {},
   "outputs": [
    {
     "name": "stdout",
     "output_type": "stream",
     "text": [
      "       price  brand_Activia  brand_Alnatura  brand_Danone  \\\n",
      "87  8.909091          False           False         False   \n",
      "\n",
      "    brand_Ecke-Mit-Was-Drin  brand_Ja!  brand_Mueller  brand_Oikos  \\\n",
      "87                    False      False              1        False   \n",
      "\n",
      "    brand_Rewe  flavour_chocolate  flavour_raspberry  flavour_straciatella  \\\n",
      "87       False                  1              False                 False   \n",
      "\n",
      "    flavour_strawberry  pred_unit       revenue  \n",
      "87               False    1146.16  10211.243636  \n"
     ]
    },
    {
     "data": {
      "image/png": "[encoded data removed]",
      "text/plain": [
       "<Figure size 640x480 with 1 Axes>"
      ]
     },
     "metadata": {},
     "output_type": "display_data"
    }
   ],
   "source": [
    "def revenue_optimize(price_df, model):\n",
    "    revenue_df = price_df.copy()\n",
    "    revenue_df['pred_unit'] = model.pred(price_df)\n",
    "    revenue_df[\"revenue\"] = revenue_df['pred_unit'] * revenue_df['price']\n",
    "    print(revenue_df.query('revenue == revenue.max()'))\n",
    "    sns.lineplot(data=revenue_df, x='price', y='revenue')\n",
    "    plt.title(\"Revenue vs Price\")\n",
    "revenue_optimize(price_df, rf_xn)"
   ]
  },
  {
   "cell_type": "code",
   "execution_count": 18,
   "id": "1a0d7324",
   "metadata": {},
   "outputs": [
    {
     "ename": "NameError",
     "evalue": "name 'lr_xn' is not defined",
     "output_type": "error",
     "traceback": [
      "\u001b[31m---------------------------------------------------------------------------\u001b[39m",
      "\u001b[31mNameError\u001b[39m                                 Traceback (most recent call last)",
      "\u001b[36mCell\u001b[39m\u001b[36m \u001b[39m\u001b[32mIn[18]\u001b[39m\u001b[32m, line 1\u001b[39m\n\u001b[32m----> \u001b[39m\u001b[32m1\u001b[39m revenue_optimize(price_df, \u001b[43mlr_xn\u001b[49m)\n",
      "\u001b[31mNameError\u001b[39m: name 'lr_xn' is not defined"
     ]
    }
   ],
   "source": [
    "revenue_optimize(price_df, lr_xn)"
   ]
  },
  {
   "cell_type": "markdown",
   "id": "123ce660",
   "metadata": {},
   "source": [
    "# model comparison for this dataset\n",
    "\n",
    "### OLS\n",
    "\n",
    "- linearity v\n",
    "- endogeneity: can only assume Omitted variables/Simultaneity/Measurement error/ Sample selection bias doesn't exist\n",
    "- normality and homoscedasticity of residual v\n",
    "- autocorrelation: if the data are collected from different customers then it's safe otherwise this would lead to underestimate of std\n",
    "- multicolinearity: price has a high VIF, which leads to inflated standard errors and biased estimation. since we are mainly looking at the effect of price affecting sales, 'volume_per_joghurt_g' and 'packsize' are dropped to increase the price precission even though it decrease adj r squared\n",
    "\n",
    "\n",
    "\n",
    "### model: random forest\n",
    "\n",
    "- n_estimators= 100 is the default value to balance of performance and speed A\n",
    "- Independence of Observations: if the data is not collected from different customer this may lead to overfitting or misleading variable importance. Tree-based methods do not inherently account for autocorrelation... Time-series structure must be explicitly encoded via lag features or temporal validation\n",
    "- minimal multicollinearity: may split on redundant variables/ misleading importance rankings. Random Forest is not affected by multicollinearity as much as linear regression... though variable importance can be biased.\n",
    "\n",
    "- however the above 2 problems also affect linear model, and random forest is more robust to them in general. \n",
    "\n",
    "### comparing random forest and OLS\n",
    "\n",
    "- Cross-validation and scoring metrics like MSE or R² can be used to compare the generalization performance of multiple estimators.\n",
    "- Adjusted R² is not well defined for non-parametric models like Random Forests.\n",
    "- Standardizing the target variable allows MSE to be interpreted in terms of variance units, but it is no longer in the original units of measurement, making direct interpretability more difficult.\n",
    "- R² depends only on the squared errors and the total variance, and both scale in the same way under standardization, R² remains unchanged\n",
    "\n",
    "### other alternatives\n",
    "\n",
    "- **gradient boosting tree regresssion :**\n",
    "\n",
    "    potentoal of higher accuracy than random forest, but requires more tuning and is more prone to overfitting\n",
    "\n",
    "- **GLM :** generalizes OLS by allowing for non-normal dependent variables (e.g., logistic regression, Poisson regression). It is best when the data type itself is different—like counts or proportions.\n",
    "    - Linearity \n",
    "    - No Endogeneity \n",
    "    - No Multicollinearity \n",
    "    - No Autocorrelation\n",
    "\n",
    "    specific to GLM compared to OLS:\n",
    "    - Correct Specification of the Link Functio\n",
    "    - Correct Specification of the Distribution of the Response Variable (exponential family e.g., Normal, Binomial, Poisson, Gamma, Inverse Gaussian)\n",
    "    - Some GLMs require handling of an extra dispersion parameter (e.g., in Gamma or quasi-Poisson models).\n",
    "\n",
    "    difference from OLS, GLM can better handle the below assumptions, but we don't have to worry about them here:\n",
    "    - Normality and Homoscedasticity of Residuals\n",
    "        - Normality: GLM assumes that the response variable follows a distribution from the exponential family\n",
    "        - Homoscedasticity : GLM allows the variance to be a function of the mean, depending on the family \n",
    "\n",
    "- **GLS :**  generalizes OLS by relaxing the assumption of homoscedasticity and uncorrelated errors. It is used when the dependent variable is continuous and normally distributed, but errors are problematic (e.g., heteroscedastic or autocorrelated)   \n",
    "    - Linearity \n",
    "    - No Endogeneity \n",
    "    - No Multicollinearity \n",
    "\n",
    "    specific to GLS compared to OLS:\n",
    "    - Known or Correctly Specified Error Variance-Covariance Matrix (Ω)\n",
    "        - use GLS If Ω is known\n",
    "        - use Feasible GLS if Ω must be estimated\n",
    "\n",
    "    difference from OLS, GLS can better handle the below assumptions, but we don't have to worry about them here:\n",
    "    - Normality and Homoscedasticity of Residuals\n",
    "        - Normality: Not necessary for unbiasedness/consistency, only for inference\n",
    "        - Homoscedasticity : GLS is used precisely when heteroscedasticity is present\n",
    "    - No Autocorrelation : GLS is often employed specifically to address autocorrelation \n",
    "\n",
    "- **GAM :** Generalized Additive Models \n",
    "    - No Endogeneity \n",
    "    - No Multicollinearity \n",
    "    - No Autocorrelation\t\n",
    "\n",
    "    specific to GAM compared to OLS:\n",
    "    - Smoothness Selection & Overfitting Control: GAMs require selecting the degree of smoothness for each function (e.g., via penalized likelihood)\n",
    "    - Basis Function Specification: GAM is sensitive to the choice and number of basis functions used to represent smooth terms.\n",
    "    - Additivity: GAM assumes that effects of predictors are additive, unless interactions are explicitly modeled.\n",
    "\n",
    "\n",
    "\n",
    "    difference from OLS, GAM can better handle the below assumptions:\n",
    "     - Linearity: Predictors are allowed to have non-linear relationships with the response via smooth functions (e.g., splines). \n",
    "    - Normality and Homoscedasticity of Residuals\n",
    "        - Normality: Required only if using Gaussian family, not required for all GAMs (GAMs can use Poisson, binomial, etc.)\n",
    "        - Homoscedasticity: Assumes variance is correctly modeled via the distribution in the specified family; for Gaussian GAMs, this implies constant variance unless otherwise modeled\n",
    "\n",
    "    here maybe GAM can fit a better line than OLS, but the difference can't be too drastic based on the graph\n"
   ]
  }
 ],
 "metadata": {
  "kernelspec": {
   "display_name": "Python 3",
   "language": "python",
   "name": "python3"
  },
  "language_info": {
   "codemirror_mode": {
    "name": "ipython",
    "version": 3
   },
   "file_extension": ".py",
   "mimetype": "text/x-python",
   "name": "python",
   "nbconvert_exporter": "python",
   "pygments_lexer": "ipython3",
   "version": "3.12.10"
  }
 },
 "nbformat": 4,
 "nbformat_minor": 5
}
