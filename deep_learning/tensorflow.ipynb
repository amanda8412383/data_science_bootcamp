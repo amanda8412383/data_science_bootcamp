{
 "cells": [
  {
   "cell_type": "code",
   "execution_count": 2,
   "metadata": {},
   "outputs": [],
   "source": [
    "import tensorflow as tf\n",
    "import numpy as np\n",
    "import matplotlib.pyplot as plt\n"
   ]
  },
  {
   "cell_type": "code",
   "execution_count": 4,
   "metadata": {},
   "outputs": [],
   "source": [
    "#Variabelm generieren wie \n",
    "observations = 1000\n",
    "\n",
    "xs = np.random.uniform(low=-10, high=10, size=(observations,1))\n",
    "zs = np.random.uniform(-10, 10, (observations,1))\n",
    "generated_inputs = np.column_stack((xs,zs))\n",
    "noise = np.random.uniform(-1, 1, (observations,1))\n",
    "generated_targets = 2*xs - 3*zs + 5 + noise\n",
    "\n",
    "#speichen als npz datei\n",
    "np.savez('TF_intro', inputs=generated_inputs, targets=generated_targets)"
   ]
  },
  {
   "cell_type": "code",
   "execution_count": 5,
   "metadata": {},
   "outputs": [],
   "source": [
    "#der datei laden\n",
    "training_data = np.load('TF_intro.npz')"
   ]
  },
  {
   "cell_type": "code",
   "execution_count": null,
   "metadata": {},
   "outputs": [
    {
     "name": "stdout",
     "output_type": "stream",
     "text": [
      "Epoch 1/100\n",
      "32/32 - 1s - 34ms/step - loss: 19.6910\n",
      "Epoch 2/100\n",
      "32/32 - 0s - 6ms/step - loss: 1.5100\n",
      "Epoch 3/100\n",
      "32/32 - 0s - 4ms/step - loss: 0.4584\n",
      "Epoch 4/100\n",
      "32/32 - 0s - 4ms/step - loss: 0.3586\n",
      "Epoch 5/100\n",
      "32/32 - 0s - 4ms/step - loss: 0.3730\n",
      "Epoch 6/100\n",
      "32/32 - 0s - 6ms/step - loss: 0.3761\n",
      "Epoch 7/100\n",
      "32/32 - 0s - 6ms/step - loss: 0.3785\n",
      "Epoch 8/100\n",
      "32/32 - 0s - 4ms/step - loss: 0.3904\n",
      "Epoch 9/100\n",
      "32/32 - 0s - 4ms/step - loss: 0.3671\n",
      "Epoch 10/100\n",
      "32/32 - 0s - 4ms/step - loss: 0.4002\n",
      "Epoch 11/100\n",
      "32/32 - 0s - 4ms/step - loss: 0.3900\n",
      "Epoch 12/100\n",
      "32/32 - 0s - 6ms/step - loss: 0.3662\n",
      "Epoch 13/100\n",
      "32/32 - 0s - 5ms/step - loss: 0.4010\n",
      "Epoch 14/100\n",
      "32/32 - 0s - 5ms/step - loss: 0.3670\n",
      "Epoch 15/100\n",
      "32/32 - 0s - 5ms/step - loss: 0.3695\n",
      "Epoch 16/100\n",
      "32/32 - 0s - 5ms/step - loss: 0.3823\n",
      "Epoch 17/100\n",
      "32/32 - 0s - 5ms/step - loss: 0.4051\n",
      "Epoch 18/100\n",
      "32/32 - 0s - 5ms/step - loss: 0.3766\n",
      "Epoch 19/100\n",
      "32/32 - 0s - 6ms/step - loss: 0.3877\n",
      "Epoch 20/100\n",
      "32/32 - 0s - 7ms/step - loss: 0.3757\n",
      "Epoch 21/100\n",
      "32/32 - 0s - 10ms/step - loss: 0.4078\n",
      "Epoch 22/100\n",
      "32/32 - 0s - 6ms/step - loss: 0.3923\n",
      "Epoch 23/100\n",
      "32/32 - 0s - 6ms/step - loss: 0.3643\n",
      "Epoch 24/100\n",
      "32/32 - 0s - 5ms/step - loss: 0.3648\n",
      "Epoch 25/100\n",
      "32/32 - 0s - 6ms/step - loss: 0.3810\n",
      "Epoch 26/100\n",
      "32/32 - 0s - 7ms/step - loss: 0.3754\n",
      "Epoch 27/100\n",
      "32/32 - 0s - 10ms/step - loss: 0.3638\n",
      "Epoch 28/100\n",
      "32/32 - 0s - 10ms/step - loss: 0.3720\n",
      "Epoch 29/100\n",
      "32/32 - 0s - 6ms/step - loss: 0.3857\n",
      "Epoch 30/100\n",
      "32/32 - 0s - 5ms/step - loss: 0.3506\n",
      "Epoch 31/100\n",
      "32/32 - 0s - 6ms/step - loss: 0.3869\n",
      "Epoch 32/100\n",
      "32/32 - 0s - 5ms/step - loss: 0.3700\n",
      "Epoch 33/100\n",
      "32/32 - 0s - 5ms/step - loss: 0.3680\n",
      "Epoch 34/100\n",
      "32/32 - 0s - 6ms/step - loss: 0.3826\n",
      "Epoch 35/100\n",
      "32/32 - 0s - 5ms/step - loss: 0.3709\n",
      "Epoch 36/100\n",
      "32/32 - 0s - 5ms/step - loss: 0.3751\n",
      "Epoch 37/100\n",
      "32/32 - 0s - 5ms/step - loss: 0.3741\n",
      "Epoch 38/100\n",
      "32/32 - 0s - 6ms/step - loss: 0.3631\n",
      "Epoch 39/100\n",
      "32/32 - 0s - 6ms/step - loss: 0.3937\n",
      "Epoch 40/100\n",
      "32/32 - 0s - 8ms/step - loss: 0.3953\n",
      "Epoch 41/100\n",
      "32/32 - 0s - 6ms/step - loss: 0.3732\n",
      "Epoch 42/100\n",
      "32/32 - 0s - 10ms/step - loss: 0.4017\n",
      "Epoch 43/100\n",
      "32/32 - 0s - 6ms/step - loss: 0.3775\n",
      "Epoch 44/100\n",
      "32/32 - 0s - 6ms/step - loss: 0.3827\n",
      "Epoch 45/100\n",
      "32/32 - 0s - 5ms/step - loss: 0.3725\n",
      "Epoch 46/100\n",
      "32/32 - 0s - 6ms/step - loss: 0.3875\n",
      "Epoch 47/100\n",
      "32/32 - 0s - 6ms/step - loss: 0.3843\n",
      "Epoch 48/100\n",
      "32/32 - 0s - 5ms/step - loss: 0.3718\n",
      "Epoch 49/100\n",
      "32/32 - 0s - 5ms/step - loss: 0.3837\n",
      "Epoch 50/100\n",
      "32/32 - 0s - 7ms/step - loss: 0.3530\n",
      "Epoch 51/100\n",
      "32/32 - 0s - 5ms/step - loss: 0.3683\n",
      "Epoch 52/100\n",
      "32/32 - 0s - 4ms/step - loss: 0.3869\n",
      "Epoch 53/100\n",
      "32/32 - 0s - 10ms/step - loss: 0.3732\n",
      "Epoch 54/100\n",
      "32/32 - 0s - 6ms/step - loss: 0.3660\n",
      "Epoch 55/100\n",
      "32/32 - 0s - 5ms/step - loss: 0.4003\n",
      "Epoch 56/100\n",
      "32/32 - 0s - 7ms/step - loss: 0.3653\n",
      "Epoch 57/100\n",
      "32/32 - 0s - 5ms/step - loss: 0.3707\n",
      "Epoch 58/100\n",
      "32/32 - 0s - 5ms/step - loss: 0.3872\n",
      "Epoch 59/100\n",
      "32/32 - 0s - 5ms/step - loss: 0.4015\n",
      "Epoch 60/100\n",
      "32/32 - 0s - 5ms/step - loss: 0.3746\n",
      "Epoch 61/100\n",
      "32/32 - 0s - 5ms/step - loss: 0.3787\n",
      "Epoch 62/100\n",
      "32/32 - 0s - 5ms/step - loss: 0.4020\n",
      "Epoch 63/100\n",
      "32/32 - 0s - 5ms/step - loss: 0.3579\n",
      "Epoch 64/100\n",
      "32/32 - 0s - 4ms/step - loss: 0.3697\n",
      "Epoch 65/100\n",
      "32/32 - 0s - 6ms/step - loss: 0.3794\n",
      "Epoch 66/100\n",
      "32/32 - 0s - 7ms/step - loss: 0.4048\n",
      "Epoch 67/100\n",
      "32/32 - 0s - 5ms/step - loss: 0.4066\n",
      "Epoch 68/100\n",
      "32/32 - 0s - 6ms/step - loss: 0.3798\n",
      "Epoch 69/100\n",
      "32/32 - 0s - 6ms/step - loss: 0.4352\n",
      "Epoch 70/100\n",
      "32/32 - 0s - 5ms/step - loss: 0.3780\n",
      "Epoch 71/100\n",
      "32/32 - 0s - 4ms/step - loss: 0.3933\n",
      "Epoch 72/100\n",
      "32/32 - 0s - 4ms/step - loss: 0.3503\n",
      "Epoch 73/100\n",
      "32/32 - 0s - 4ms/step - loss: 0.3675\n",
      "Epoch 74/100\n",
      "32/32 - 0s - 5ms/step - loss: 0.3697\n",
      "Epoch 75/100\n",
      "32/32 - 0s - 6ms/step - loss: 0.4018\n",
      "Epoch 76/100\n",
      "32/32 - 0s - 5ms/step - loss: 0.3736\n",
      "Epoch 77/100\n",
      "32/32 - 0s - 6ms/step - loss: 0.3569\n",
      "Epoch 78/100\n",
      "32/32 - 0s - 6ms/step - loss: 0.3979\n",
      "Epoch 79/100\n",
      "32/32 - 0s - 5ms/step - loss: 0.3778\n",
      "Epoch 80/100\n",
      "32/32 - 0s - 5ms/step - loss: 0.3716\n",
      "Epoch 81/100\n",
      "32/32 - 0s - 5ms/step - loss: 0.3954\n",
      "Epoch 82/100\n",
      "32/32 - 0s - 6ms/step - loss: 0.3631\n",
      "Epoch 83/100\n",
      "32/32 - 0s - 6ms/step - loss: 0.3729\n",
      "Epoch 84/100\n",
      "32/32 - 0s - 6ms/step - loss: 0.3795\n",
      "Epoch 85/100\n",
      "32/32 - 0s - 6ms/step - loss: 0.3690\n",
      "Epoch 86/100\n",
      "32/32 - 0s - 5ms/step - loss: 0.3783\n",
      "Epoch 87/100\n",
      "32/32 - 0s - 9ms/step - loss: 0.3599\n",
      "Epoch 88/100\n",
      "32/32 - 0s - 6ms/step - loss: 0.4023\n",
      "Epoch 89/100\n",
      "32/32 - 0s - 6ms/step - loss: 0.3831\n",
      "Epoch 90/100\n",
      "32/32 - 0s - 6ms/step - loss: 0.3744\n",
      "Epoch 91/100\n",
      "32/32 - 0s - 10ms/step - loss: 0.3821\n",
      "Epoch 92/100\n",
      "32/32 - 0s - 8ms/step - loss: 0.3879\n",
      "Epoch 93/100\n",
      "32/32 - 0s - 5ms/step - loss: 0.3922\n",
      "Epoch 94/100\n",
      "32/32 - 0s - 5ms/step - loss: 0.3720\n",
      "Epoch 95/100\n",
      "32/32 - 0s - 3ms/step - loss: 0.3690\n",
      "Epoch 96/100\n",
      "32/32 - 0s - 6ms/step - loss: 0.4039\n",
      "Epoch 97/100\n",
      "32/32 - 0s - 6ms/step - loss: 0.4067\n",
      "Epoch 98/100\n",
      "32/32 - 0s - 6ms/step - loss: 0.3622\n",
      "Epoch 99/100\n",
      "32/32 - 0s - 6ms/step - loss: 0.3656\n",
      "Epoch 100/100\n",
      "32/32 - 0s - 4ms/step - loss: 0.3708\n"
     ]
    },
    {
     "data": {
      "text/plain": [
       "<keras.src.callbacks.history.History at 0x28e54810e20>"
      ]
     },
     "execution_count": 8,
     "metadata": {},
     "output_type": "execute_result"
    }
   ],
   "source": [
    "#deklrieren die Anzahl der Input Variabelm\n",
    "input_size = 2\n",
    "#deklrieren die Anzahl der Output Variabelm\n",
    "output_size = 1\n",
    "\n",
    "#Fuktionen, die angeben, wie das Modell angelegt wird\n",
    "#es ist nur eine Beschreibung des Netzwerks, keine Berechnung beinhaltet\n",
    "model = tf.keras.Sequential([ \n",
    "    #das berechnen die punktprodukt von Gewicht und Input, fügt das Bias hinzu und wendet auch die Aktivierungsfunktion an \n",
    "            tf.keras.layers.Dense(output_size,\n",
    "                                #Anfangwert für Gewichte \n",
    "                                kernel_initializer=tf.random_uniform_initializer(minval=-0.1, maxval=0.1),\n",
    "                                #Anfangwert für Bias \n",
    "                                bias_initializer=tf.random_uniform_initializer(minval=-0.1, maxval=0.1)\n",
    "                                                 ))\n",
    "])\n",
    "\n",
    "\n",
    "#SGD = stochastic gradient descent optimizer \n",
    "#in benutzerdefinierter Optimiere können wir die Lernrate und verlust Fuktion defenieren\n",
    "custom_optimizer = tf.keras.optimizers.SGD(learning_rate=0.02)\n",
    "\n",
    "\n",
    "#compile ist der Platz, wo man optimizer und loss wählen\n",
    "#loss = L2-Norm skaliert durch die Anzahl der Beobachtung\n",
    "model.compile(optimizer=custom_optimizer, loss='mean_squared_error')\n",
    "#loss = huber_loss eignet sich besonders für Datensätze mit Ausreißen\n",
    "\n",
    "#Model tranieren, Angabe des Inputs und das Target\n",
    "# epoch = wie viel Mal wir die Datei tranieren, der Standardwert ist 1, und normalerweise brauchen wir mehr als 1\n",
    "# verbose = 0 schweigen, verbose = 1 animierter Fortschrittsbalken, verbose = 2 \n",
    "model.fit(training_data['inputs'], training_data['targets'], epochs=100, verbose=2)\n"
   ]
  },
  {
   "cell_type": "code",
   "execution_count": null,
   "metadata": {},
   "outputs": [
    {
     "data": {
      "text/plain": [
       "[array([[ 2.0356293],\n",
       "        [-3.0103345]], dtype=float32),\n",
       " array([5.003321], dtype=float32)]"
      ]
     },
     "execution_count": 9,
     "metadata": {},
     "output_type": "execute_result"
    }
   ],
   "source": [
    "#die Gewichte und den Bias extrahieren\n",
    "#das ist normalerweise unnotwendig, nur weil wir das Ergebnis checken möchten\n",
    "model.layers[0].get_weights()"
   ]
  },
  {
   "cell_type": "code",
   "execution_count": 13,
   "metadata": {},
   "outputs": [],
   "source": [
    "#vorhersage der neuen Werte\n",
    "#das ist normalerweise unnotwendig, nur weil wir diese Funktionalität erlernen\n",
    "\n",
    "prediction = model.predict_on_batch(training_data['inputs'])"
   ]
  },
  {
   "cell_type": "code",
   "execution_count": 15,
   "metadata": {},
   "outputs": [
    {
     "data": {
      "text/plain": [
       "Text(0, 0.5, 'targets')"
      ]
     },
     "execution_count": 15,
     "metadata": {},
     "output_type": "execute_result"
    },
    {
     "data": {
      "image/png": "[encoded data removed]",
      "text/plain": [
       "<Figure size 432x288 with 1 Axes>"
      ]
     },
     "metadata": {
      "needs_background": "light"
     },
     "output_type": "display_data"
    }
   ],
   "source": [
    "#Vorhersage plotten\n",
    "#np.squeeze ist notwendig für plot\n",
    "plt.plot(np.squeeze(prediction), np.squeeze(training_data['targets']))\n",
    "plt.xlabel('outputs')\n",
    "plt.ylabel('targets')"
   ]
  },
  {
   "cell_type": "markdown",
   "metadata": {},
   "source": [
    "in vergleichen zu Numpy, tensorflow zeigt schon die folgende Vorteile: die Definition für die Anfangswerten der Gewichte, der Lernrate oder des Bias sind nicht notwendig"
   ]
  },
  {
   "cell_type": "code",
   "execution_count": null,
   "metadata": {},
   "outputs": [],
   "source": []
  }
 ],
 "metadata": {
  "kernelspec": {
   "display_name": "bike",
   "language": "python",
   "name": "python3"
  },
  "language_info": {
   "codemirror_mode": {
    "name": "ipython",
    "version": 3
   },
   "file_extension": ".py",
   "mimetype": "text/x-python",
   "name": "python",
   "nbconvert_exporter": "python",
   "pygments_lexer": "ipython3",
   "version": "3.9.7"
  }
 },
 "nbformat": 4,
 "nbformat_minor": 2
}
