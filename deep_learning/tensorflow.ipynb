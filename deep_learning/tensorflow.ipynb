{
 "cells": [
  {
   "cell_type": "code",
   "execution_count": 2,
   "metadata": {},
   "outputs": [],
   "source": [
    "import tensorflow as tf\n",
    "import numpy as np\n",
    "import matplotlib.pyplot as plt\n"
   ]
  },
  {
   "cell_type": "code",
   "execution_count": 4,
   "metadata": {},
   "outputs": [],
   "source": [
    "#Variabelm generieren wie \n",
    "observations = 1000\n",
    "\n",
    "xs = np.random.uniform(low=-10, high=10, size=(observations,1))\n",
    "zs = np.random.uniform(-10, 10, (observations,1))\n",
    "generated_inputs = np.column_stack((xs,zs))\n",
    "noise = np.random.uniform(-1, 1, (observations,1))\n",
    "generated_targets = 2*xs - 3*zs + 5 + noise\n",
    "\n",
    "#speichen als npz datei\n",
    "np.savez('TF_intro', inputs=generated_inputs, targets=generated_targets)"
   ]
  },
  {
   "cell_type": "code",
   "execution_count": 5,
   "metadata": {},
   "outputs": [],
   "source": [
    "#der datei laden\n",
    "training_data = np.load('TF_intro.npz')"
   ]
  },
  {
   "cell_type": "code",
   "execution_count": null,
   "metadata": {},
   "outputs": [],
   "source": [
    "#deklrieren die Anzahl der Input Variabelm\n",
    "input_size = 2\n",
    "#deklrieren die Anzahl der Output Variabelm\n",
    "output_size = 1\n",
    "\n",
    "#Fuktionen, die angeben, wie das Modell angelegt wird\n",
    "#es ist nur eine Beschreibung des Netzwerks, keine Berechnung beinhaltet\n",
    "model = tf.keras.Sequential([ \n",
    "    #das berechnen die punktprodukt von Gewicht und Input, fügt das Bias hinzu und wendet auch die Aktivierungsfunktion an \n",
    "    tf.keras.layers.dense(output_size)\n",
    "])\n",
    "\n",
    "\n",
    "# We can also define a custom optimizer, where we can specify the learning rate\n",
    "#in benutzerdefinierter Optimiere können wir die Lernrate und verlust Fuktion defenieren\n",
    "custom_optimizer = tf.keras.optimizers.SGD(learning_rate=0.02)\n",
    "\n",
    "\n",
    "#compile ist der Platz, wo man optimizer und loss wählen\n",
    "model.compile(optimizer=custom_optimizer, loss='mean_squared_error')\n"
   ]
  }
 ],
 "metadata": {
  "kernelspec": {
   "display_name": "bike",
   "language": "python",
   "name": "python3"
  },
  "language_info": {
   "codemirror_mode": {
    "name": "ipython",
    "version": 3
   },
   "file_extension": ".py",
   "mimetype": "text/x-python",
   "name": "python",
   "nbconvert_exporter": "python",
   "pygments_lexer": "ipython3",
   "version": "3.9.7"
  }
 },
 "nbformat": 4,
 "nbformat_minor": 2
}
