{
 "cells": [
  {
   "cell_type": "code",
   "execution_count": null,
   "id": "20b7e5b9",
   "metadata": {},
   "outputs": [],
   "source": [
    "import pandas as pd\n"
   ]
  },
  {
   "cell_type": "code",
   "execution_count": null,
   "id": "dd7c1c8a",
   "metadata": {},
   "outputs": [],
   "source": [
    "raw = pd.read_csv(\"Absenteeism_data.csv\", sep=\";\")"
   ]
  }
 ],
 "metadata": {
  "language_info": {
   "name": "python"
  }
 },
 "nbformat": 4,
 "nbformat_minor": 5
}
