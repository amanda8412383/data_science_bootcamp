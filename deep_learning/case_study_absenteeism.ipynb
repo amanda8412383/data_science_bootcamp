{
 "cells": [
  {
   "cell_type": "code",
   "execution_count": 52,
   "id": "20b7e5b9",
   "metadata": {},
   "outputs": [],
   "source": [
    "import pandas as pd\n",
    "import numpy as np\n"
   ]
  },
  {
   "cell_type": "code",
   "execution_count": 53,
   "id": "dd7c1c8a",
   "metadata": {},
   "outputs": [
    {
     "data": {
      "text/html": [
       "<div>\n",
       "<style scoped>\n",
       "    .dataframe tbody tr th:only-of-type {\n",
       "        vertical-align: middle;\n",
       "    }\n",
       "\n",
       "    .dataframe tbody tr th {\n",
       "        vertical-align: top;\n",
       "    }\n",
       "\n",
       "    .dataframe thead th {\n",
       "        text-align: right;\n",
       "    }\n",
       "</style>\n",
       "<table border=\"1\" class=\"dataframe\">\n",
       "  <thead>\n",
       "    <tr style=\"text-align: right;\">\n",
       "      <th></th>\n",
       "      <th>ID</th>\n",
       "      <th>Reason for Absence</th>\n",
       "      <th>Date</th>\n",
       "      <th>Transportation Expense</th>\n",
       "      <th>Distance to Work</th>\n",
       "      <th>Age</th>\n",
       "      <th>Daily Work Load Average</th>\n",
       "      <th>Body Mass Index</th>\n",
       "      <th>Education</th>\n",
       "      <th>Children</th>\n",
       "      <th>Pets</th>\n",
       "      <th>Absenteeism Time in Hours</th>\n",
       "    </tr>\n",
       "  </thead>\n",
       "  <tbody>\n",
       "    <tr>\n",
       "      <th>0</th>\n",
       "      <td>11</td>\n",
       "      <td>26</td>\n",
       "      <td>07/07/2015</td>\n",
       "      <td>289</td>\n",
       "      <td>36</td>\n",
       "      <td>33</td>\n",
       "      <td>239.554</td>\n",
       "      <td>30</td>\n",
       "      <td>1</td>\n",
       "      <td>2</td>\n",
       "      <td>1</td>\n",
       "      <td>4</td>\n",
       "    </tr>\n",
       "    <tr>\n",
       "      <th>1</th>\n",
       "      <td>36</td>\n",
       "      <td>0</td>\n",
       "      <td>14/07/2015</td>\n",
       "      <td>118</td>\n",
       "      <td>13</td>\n",
       "      <td>50</td>\n",
       "      <td>239.554</td>\n",
       "      <td>31</td>\n",
       "      <td>1</td>\n",
       "      <td>1</td>\n",
       "      <td>0</td>\n",
       "      <td>0</td>\n",
       "    </tr>\n",
       "    <tr>\n",
       "      <th>2</th>\n",
       "      <td>3</td>\n",
       "      <td>23</td>\n",
       "      <td>15/07/2015</td>\n",
       "      <td>179</td>\n",
       "      <td>51</td>\n",
       "      <td>38</td>\n",
       "      <td>239.554</td>\n",
       "      <td>31</td>\n",
       "      <td>1</td>\n",
       "      <td>0</td>\n",
       "      <td>0</td>\n",
       "      <td>2</td>\n",
       "    </tr>\n",
       "    <tr>\n",
       "      <th>3</th>\n",
       "      <td>7</td>\n",
       "      <td>7</td>\n",
       "      <td>16/07/2015</td>\n",
       "      <td>279</td>\n",
       "      <td>5</td>\n",
       "      <td>39</td>\n",
       "      <td>239.554</td>\n",
       "      <td>24</td>\n",
       "      <td>1</td>\n",
       "      <td>2</td>\n",
       "      <td>0</td>\n",
       "      <td>4</td>\n",
       "    </tr>\n",
       "    <tr>\n",
       "      <th>4</th>\n",
       "      <td>11</td>\n",
       "      <td>23</td>\n",
       "      <td>23/07/2015</td>\n",
       "      <td>289</td>\n",
       "      <td>36</td>\n",
       "      <td>33</td>\n",
       "      <td>239.554</td>\n",
       "      <td>30</td>\n",
       "      <td>1</td>\n",
       "      <td>2</td>\n",
       "      <td>1</td>\n",
       "      <td>2</td>\n",
       "    </tr>\n",
       "  </tbody>\n",
       "</table>\n",
       "</div>"
      ],
      "text/plain": [
       "   ID  Reason for Absence        Date  Transportation Expense  \\\n",
       "0  11                  26  07/07/2015                     289   \n",
       "1  36                   0  14/07/2015                     118   \n",
       "2   3                  23  15/07/2015                     179   \n",
       "3   7                   7  16/07/2015                     279   \n",
       "4  11                  23  23/07/2015                     289   \n",
       "\n",
       "   Distance to Work  Age  Daily Work Load Average  Body Mass Index  Education  \\\n",
       "0                36   33                  239.554               30          1   \n",
       "1                13   50                  239.554               31          1   \n",
       "2                51   38                  239.554               31          1   \n",
       "3                 5   39                  239.554               24          1   \n",
       "4                36   33                  239.554               30          1   \n",
       "\n",
       "   Children  Pets  Absenteeism Time in Hours  \n",
       "0         2     1                          4  \n",
       "1         1     0                          0  \n",
       "2         0     0                          2  \n",
       "3         2     0                          4  \n",
       "4         2     1                          2  "
      ]
     },
     "execution_count": 53,
     "metadata": {},
     "output_type": "execute_result"
    }
   ],
   "source": [
    "raw = pd.read_csv(\"Absenteeism_data.csv\")\n",
    "raw.head()"
   ]
  },
  {
   "cell_type": "code",
   "execution_count": 54,
   "id": "7b5cb0b7",
   "metadata": {},
   "outputs": [
    {
     "name": "stdout",
     "output_type": "stream",
     "text": [
      "<class 'pandas.core.frame.DataFrame'>\n",
      "RangeIndex: 700 entries, 0 to 699\n",
      "Data columns (total 12 columns):\n",
      " #   Column                     Non-Null Count  Dtype  \n",
      "---  ------                     --------------  -----  \n",
      " 0   ID                         700 non-null    int64  \n",
      " 1   Reason for Absence         700 non-null    int64  \n",
      " 2   Date                       700 non-null    object \n",
      " 3   Transportation Expense     700 non-null    int64  \n",
      " 4   Distance to Work           700 non-null    int64  \n",
      " 5   Age                        700 non-null    int64  \n",
      " 6   Daily Work Load Average    700 non-null    float64\n",
      " 7   Body Mass Index            700 non-null    int64  \n",
      " 8   Education                  700 non-null    int64  \n",
      " 9   Children                   700 non-null    int64  \n",
      " 10  Pets                       700 non-null    int64  \n",
      " 11  Absenteeism Time in Hours  700 non-null    int64  \n",
      "dtypes: float64(1), int64(10), object(1)\n",
      "memory usage: 65.8+ KB\n"
     ]
    }
   ],
   "source": [
    "raw.info()"
   ]
  },
  {
   "cell_type": "code",
   "execution_count": 55,
   "id": "1437025c",
   "metadata": {},
   "outputs": [],
   "source": [
    "raw[\"reason_group\"] = pd.cut(\n",
    "    x=raw[\"Reason for Absence\"],\n",
    "    bins=[-np.inf, 0, 14, 17, 21, np.inf],\n",
    "    labels=[\"unknown\", \"sickness\", \"pregnancy\", \"accident\", \"other\"],\n",
    "\n",
    ")\n",
    " \n",
    "reason_dummy = pd.get_dummies(raw[\"reason_group\"], prefix=\"reason_group\", drop_first=True)"
   ]
  },
  {
   "cell_type": "code",
   "execution_count": 56,
   "id": "b83887d7",
   "metadata": {},
   "outputs": [],
   "source": [
    "df = pd.concat([raw, reason_dummy], axis=1)\n",
    "#df.head(10)"
   ]
  },
  {
   "cell_type": "code",
   "execution_count": 57,
   "id": "12306d82",
   "metadata": {},
   "outputs": [
    {
     "data": {
      "text/plain": [
       "pandas._libs.tslibs.timestamps.Timestamp"
      ]
     },
     "execution_count": 57,
     "metadata": {},
     "output_type": "execute_result"
    }
   ],
   "source": [
    "df['timestamp'] = pd.to_datetime(df['Date'], dayfirst=True)\n",
    "type(df['timestamp'][0])"
   ]
  },
  {
   "cell_type": "code",
   "execution_count": 58,
   "id": "99ff936f",
   "metadata": {},
   "outputs": [],
   "source": [
    "df['month'] = df['timestamp'].dt.month\n",
    "df['day_of_week'] = df['timestamp'].dt.day_of_week"
   ]
  },
  {
   "cell_type": "code",
   "execution_count": 59,
   "id": "4dbb0a6f",
   "metadata": {},
   "outputs": [],
   "source": [
    "df['higher_education'] = df['Education'].apply(lambda x: 1 if x > 1 else 0)\n"
   ]
  },
  {
   "cell_type": "code",
   "execution_count": 60,
   "id": "4110e6ec",
   "metadata": {},
   "outputs": [
    {
     "data": {
      "text/plain": [
       "0.45571428571428574"
      ]
     },
     "execution_count": 60,
     "metadata": {},
     "output_type": "execute_result"
    }
   ],
   "source": [
    "#target Einstufung\n",
    "# der vorteil, der median zu benutyen ist, dass die Daten ausgleich geteilt werden \n",
    "benchmark = df['Absenteeism Time in Hours'].median()\n",
    "df['target'] = df['Absenteeism Time in Hours'].apply(lambda x: 1 if x > benchmark else 0)\n",
    "df.target.sum()/df.target.shape[0] # für logisticregression 40/60 aufgeteilt Daten funktioniert gut, aber für Neuralnetwork 50/50 ist besser"
   ]
  },
  {
   "cell_type": "code",
   "execution_count": 61,
   "id": "7a28a37a",
   "metadata": {},
   "outputs": [],
   "source": [
    "df_select = df.copy()\n",
    "#spalten die wir nicht brauchen\n",
    "df_select.drop(columns=['Date', 'ID', 'Reason for Absence', 'Absenteeism Time in Hours', 'reason_group', 'timestamp', 'Education'], inplace=True)\n",
    "#Rückwärtseliminierung\n",
    "df_select.drop(columns=['month', 'Distance to Work', 'Daily Work Load Average'], inplace=True)\n",
    "\n",
    "input = df_select.iloc[:, :-1]\n"
   ]
  },
  {
   "cell_type": "code",
   "execution_count": 62,
   "id": "8e940628",
   "metadata": {},
   "outputs": [],
   "source": [
    "dummy_column =['reason_group_sickness', 'reason_group_pregnancy',\n",
    "       'reason_group_accident', 'reason_group_other', 'higher_education']\n",
    "column_scaled = [x for x in input.columns if x not in dummy_column]\n"
   ]
  },
  {
   "cell_type": "code",
   "execution_count": 63,
   "id": "8bbdfb01",
   "metadata": {},
   "outputs": [],
   "source": [
    "#die Daten satnardisieren\n",
    "#dummy Spalten sollte  nicht skaliert werden, weil sie nicht interpretiert werden können\n",
    "#normalerweise werden die Daten skaliert, vor dummy erstellung\n",
    "from sklearn.preprocessing import StandardScaler\n",
    "scaler = StandardScaler()\n",
    "\n",
    "input[column_scaled] = scaler.fit_transform(input[column_scaled])"
   ]
  },
  {
   "cell_type": "code",
   "execution_count": 64,
   "id": "d64ad6fe",
   "metadata": {},
   "outputs": [],
   "source": [
    "#daten in train und test aufteilen und mischen\n",
    "#standardmäßig schuffle = True\n",
    "#stratify = True, damit die Verteilung der Zielvariable gleich bleibt\n",
    "#stratofy link https://stackoverflow.com/questions/34842405/parameter-stratify-from-method-train-test-split-scikit-learn\n",
    "from sklearn.model_selection import train_test_split\n",
    "x_train, x_test, y_train, y_test = train_test_split(input, df_select['target'], test_size=0.2, random_state=42, stratify=df_select['target'], shuffle=True)"
   ]
  },
  {
   "cell_type": "code",
   "execution_count": 65,
   "id": "4b81df77",
   "metadata": {},
   "outputs": [],
   "source": [
    "from sklearn.linear_model import LogisticRegression\n",
    "from sklearn import metrics\n"
   ]
  },
  {
   "cell_type": "code",
   "execution_count": 66,
   "id": "1a8af719",
   "metadata": {},
   "outputs": [
    {
     "data": {
      "text/plain": [
       "0.7642857142857142"
      ]
     },
     "execution_count": 66,
     "metadata": {},
     "output_type": "execute_result"
    }
   ],
   "source": [
    "#Logistic Regression\n",
    "logreg = LogisticRegression(max_iter=1000, random_state=42)\n",
    "logreg.fit(x_train, y_train)\n",
    "logreg.score(x_train, y_train)"
   ]
  },
  {
   "cell_type": "code",
   "execution_count": 67,
   "id": "8f81b879",
   "metadata": {},
   "outputs": [
    {
     "data": {
      "text/plain": [
       "0.7642857142857142"
      ]
     },
     "execution_count": 67,
     "metadata": {},
     "output_type": "execute_result"
    }
   ],
   "source": [
    "#überprüfung der Vorhersage\n",
    "y_pred = logreg.predict(x_train)\n",
    "np.sum(y_pred == y_train) / y_train.shape[0] "
   ]
  },
  {
   "cell_type": "code",
   "execution_count": 68,
   "id": "a3d4f23c",
   "metadata": {},
   "outputs": [],
   "source": [
    "#erstellen der Confusion tabelle\n",
    "feature_name = input.columns.values\n",
    "summary = pd.DataFrame(data=feature_name, columns=[\"feature\"])\n",
    "summary['coefficient'] = logreg.coef_.reshape(-1)\n"
   ]
  },
  {
   "cell_type": "code",
   "execution_count": 69,
   "id": "8b1f4d88",
   "metadata": {},
   "outputs": [],
   "source": [
    "#Achsenabschnitt hinzufügen\n",
    "summary.loc[-1] = ['intercept', logreg.intercept_[0]]  # adding a row\n",
    "summary.index = summary.index + 1  # shifting index\n",
    "summary = summary.sort_index()  # sorting by index\n"
   ]
  },
  {
   "cell_type": "code",
   "execution_count": 70,
   "id": "33489b61",
   "metadata": {},
   "outputs": [],
   "source": [
    "#Odds Ratio hinzufügen\n",
    "#wenn die Wahrscheinlichkeit 5/1 und die Odds Ratio 2 ist, für eine Einheitsänderung des Eingabe steigen die Wahrscheinlichkeit 2*5/1\n",
    "summary['odds_ratio'] = np.exp(summary['coefficient'])"
   ]
  },
  {
   "cell_type": "code",
   "execution_count": 71,
   "id": "d02169d3",
   "metadata": {},
   "outputs": [
    {
     "data": {
      "text/html": [
       "<div>\n",
       "<style scoped>\n",
       "    .dataframe tbody tr th:only-of-type {\n",
       "        vertical-align: middle;\n",
       "    }\n",
       "\n",
       "    .dataframe tbody tr th {\n",
       "        vertical-align: top;\n",
       "    }\n",
       "\n",
       "    .dataframe thead th {\n",
       "        text-align: right;\n",
       "    }\n",
       "</style>\n",
       "<table border=\"1\" class=\"dataframe\">\n",
       "  <thead>\n",
       "    <tr style=\"text-align: right;\">\n",
       "      <th></th>\n",
       "      <th>feature</th>\n",
       "      <th>coefficient</th>\n",
       "      <th>odds_ratio</th>\n",
       "    </tr>\n",
       "  </thead>\n",
       "  <tbody>\n",
       "    <tr>\n",
       "      <th>8</th>\n",
       "      <td>reason_group_accident</td>\n",
       "      <td>3.130692</td>\n",
       "      <td>22.889822</td>\n",
       "    </tr>\n",
       "    <tr>\n",
       "      <th>6</th>\n",
       "      <td>reason_group_sickness</td>\n",
       "      <td>2.765370</td>\n",
       "      <td>15.884919</td>\n",
       "    </tr>\n",
       "    <tr>\n",
       "      <th>9</th>\n",
       "      <td>reason_group_other</td>\n",
       "      <td>0.953105</td>\n",
       "      <td>2.593752</td>\n",
       "    </tr>\n",
       "    <tr>\n",
       "      <th>7</th>\n",
       "      <td>reason_group_pregnancy</td>\n",
       "      <td>0.763485</td>\n",
       "      <td>2.145741</td>\n",
       "    </tr>\n",
       "    <tr>\n",
       "      <th>1</th>\n",
       "      <td>Transportation Expense</td>\n",
       "      <td>0.597400</td>\n",
       "      <td>1.817387</td>\n",
       "    </tr>\n",
       "    <tr>\n",
       "      <th>4</th>\n",
       "      <td>Children</td>\n",
       "      <td>0.465434</td>\n",
       "      <td>1.592705</td>\n",
       "    </tr>\n",
       "    <tr>\n",
       "      <th>3</th>\n",
       "      <td>Body Mass Index</td>\n",
       "      <td>0.294789</td>\n",
       "      <td>1.342843</td>\n",
       "    </tr>\n",
       "    <tr>\n",
       "      <th>11</th>\n",
       "      <td>higher_education</td>\n",
       "      <td>0.202941</td>\n",
       "      <td>1.225001</td>\n",
       "    </tr>\n",
       "    <tr>\n",
       "      <th>2</th>\n",
       "      <td>Age</td>\n",
       "      <td>-0.154169</td>\n",
       "      <td>0.857127</td>\n",
       "    </tr>\n",
       "    <tr>\n",
       "      <th>10</th>\n",
       "      <td>day_of_week</td>\n",
       "      <td>-0.246102</td>\n",
       "      <td>0.781842</td>\n",
       "    </tr>\n",
       "    <tr>\n",
       "      <th>5</th>\n",
       "      <td>Pets</td>\n",
       "      <td>-0.308507</td>\n",
       "      <td>0.734543</td>\n",
       "    </tr>\n",
       "    <tr>\n",
       "      <th>0</th>\n",
       "      <td>intercept</td>\n",
       "      <td>-1.728339</td>\n",
       "      <td>0.177579</td>\n",
       "    </tr>\n",
       "  </tbody>\n",
       "</table>\n",
       "</div>"
      ],
      "text/plain": [
       "                   feature  coefficient  odds_ratio\n",
       "8    reason_group_accident     3.130692   22.889822\n",
       "6    reason_group_sickness     2.765370   15.884919\n",
       "9       reason_group_other     0.953105    2.593752\n",
       "7   reason_group_pregnancy     0.763485    2.145741\n",
       "1   Transportation Expense     0.597400    1.817387\n",
       "4                 Children     0.465434    1.592705\n",
       "3          Body Mass Index     0.294789    1.342843\n",
       "11        higher_education     0.202941    1.225001\n",
       "2                      Age    -0.154169    0.857127\n",
       "10             day_of_week    -0.246102    0.781842\n",
       "5                     Pets    -0.308507    0.734543\n",
       "0                intercept    -1.728339    0.177579"
      ]
     },
     "execution_count": 71,
     "metadata": {},
     "output_type": "execute_result"
    }
   ],
   "source": [
    "summary.sort_values(by='odds_ratio', ascending=False)"
   ]
  },
  {
   "cell_type": "markdown",
   "id": "5b23e04c",
   "metadata": {},
   "source": [
    "### interpretation\n",
    "- Wenn jmd in reason_group_accident ist, ist er 22 mal wahrscheinlicher abwesend als jmd in reason_group_default.\n",
    "- Wenn Transportation Expense um eine standardisierte Einheit steigt, ist die Absentismuswahrscheinlichkeit 1,78 mal so hoch wie im Basismodell.\n",
    "- Wenn Age um eine standardisierte Einheit steigt, ist die Absentismuswahrscheinlichkeit 0,86 mal  geringer als im Basismodell.\n",
    "\n",
    "\n",
    "wenn die Eingabe standarlisiert ist, ist es schwer, die Bedeutung zu interpretieren\n",
    "\n",
    "wenn die Eingabe nicht standarlisiert ist, sinken die Genaurigkeit\n",
    "\n",
    "am Besten bereitet beide Model vor\n",
    "\n",
    "interpretieren logistic regression Koeffizienten https://stats.oarc.ucla.edu/other/mult-pkg/faq/general/faq-how-do-i-interpret-odds-ratios-in-logistic-regression/\n",
    "\n",
    "### Backward Elimination\n",
    "Rückwärtseliminierung ist eine Methode der Variablenauswahl, bei der man mit einem Modell startet, das alle Variablen enthält, und dann nacheinander die am wenigsten signifikanten Variablen entfernt. Dieses Verfahren wird oft in der Regression verwendet, um das Modell zu vereinfachen und zu verbessern. \n",
    "Normalerweise wird die Variable mit dem höchsten p-Wert (oder der geringsten Signifikanz) eliminiert, wenn der p-Wert über einem bestimmten Schwellenwert (z. B. 0,05) liegt. Aber hier fehlt uns der p-Wert, weil in ML sie glauben, dass ein ausreichend kleines Gewicht vernachlässigbar ist.\n",
    "\n",
    "- month\t\t1.079030\n",
    "- Distance to Work\t\t1.024061\n",
    "- Daily Work Load Average 0.951270\n",
    "\n",
    "hat odds_ratio fast gleich wie 1, deshalb entfernen wir diese Werte, und die Genaurigkeit hat nicht geändert"
   ]
  },
  {
   "cell_type": "code",
   "execution_count": 72,
   "id": "05a39907",
   "metadata": {},
   "outputs": [
    {
     "data": {
      "text/plain": [
       "0.7642857142857142"
      ]
     },
     "execution_count": 72,
     "metadata": {},
     "output_type": "execute_result"
    }
   ],
   "source": [
    "#model evaluieren\n",
    "logreg.score(x_test, y_test)"
   ]
  },
  {
   "cell_type": "code",
   "execution_count": 73,
   "id": "e49d9a8c",
   "metadata": {},
   "outputs": [],
   "source": [
    "#die Wahrscheinlichkeit die Mitarbeiterin abwesent ist\n",
    "y_pred_proba = logreg.predict_proba(x_test)[:, 1]\n"
   ]
  },
  {
   "cell_type": "code",
   "execution_count": 74,
   "id": "d253857a",
   "metadata": {},
   "outputs": [],
   "source": [
    "#Model speichern\n",
    "import pickle\n",
    "filename = 'model.sav'\n",
    "pickle.dump(logreg, open(filename, 'wb'))\n",
    "filename = 'scaler.sav'\n",
    "pickle.dump(scaler, open(filename, 'wb'))"
   ]
  },
  {
   "cell_type": "markdown",
   "id": "41457bf7",
   "metadata": {},
   "source": [
    "### Model Speichern Methoden\n",
    "1. Joblib von Scipy\n",
    "2. Json\n",
    "3. pickle\n",
    "\n",
    "potenzial Probleme mit pickle:\n",
    "\n",
    "1. Benutzung von unterschiedliche Python Version für pickling und unpicking kann Problemen verursachen\n",
    "2. pickle ist langsam für große Modell\n",
    "3. pickle ist nicht sicher \"Entpacken Sie niemals Daten, die Sie von einer nicht vertrauenswürdigen oder nicht authentifizierten Quelle erhalten haben.\""
   ]
  }
 ],
 "metadata": {
  "kernelspec": {
   "display_name": "bike",
   "language": "python",
   "name": "python3"
  },
  "language_info": {
   "codemirror_mode": {
    "name": "ipython",
    "version": 3
   },
   "file_extension": ".py",
   "mimetype": "text/x-python",
   "name": "python",
   "nbconvert_exporter": "python",
   "pygments_lexer": "ipython3",
   "version": "3.9.7"
  }
 },
 "nbformat": 4,
 "nbformat_minor": 5
}
