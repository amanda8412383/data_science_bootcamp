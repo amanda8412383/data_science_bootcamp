{
 "cells": [
  {
   "cell_type": "code",
   "execution_count": 2,
   "metadata": {},
   "outputs": [],
   "source": [
    "import numpy as np "
   ]
  },
  {
   "cell_type": "code",
   "execution_count": 3,
   "metadata": {},
   "outputs": [
    {
     "data": {
      "text/plain": [
       "(numpy.ndarray, (), dtype('int32'))"
      ]
     },
     "execution_count": 3,
     "metadata": {},
     "output_type": "execute_result"
    }
   ],
   "source": [
    "#der Skalar/Skalare = Tensor 0. Ordnung\n",
    "S = 5\n",
    "S_array = np.array(S)\n",
    "type(S_array), S_array.shape, S_array.dtype\n",
    "#punkt hat keine Dimension, deshalb shape = ()"
   ]
  },
  {
   "cell_type": "code",
   "execution_count": 4,
   "metadata": {},
   "outputs": [
    {
     "data": {
      "text/plain": [
       "(numpy.ndarray, (5,), dtype('int32'))"
      ]
     },
     "execution_count": 4,
     "metadata": {},
     "output_type": "execute_result"
    }
   ],
   "source": [
    "#der Vektor/Vektoren = Tensor 1. Ordnung\n",
    "V = np.array([1, 2, 3, 4, 5])\n",
    "type(V), V.shape, V.dtype"
   ]
  },
  {
   "cell_type": "code",
   "execution_count": 5,
   "metadata": {},
   "outputs": [
    {
     "data": {
      "text/plain": [
       "(array([[1],\n",
       "        [2],\n",
       "        [3],\n",
       "        [4],\n",
       "        [5]]),\n",
       " array([[1, 2, 3, 4, 5]]))"
      ]
     },
     "execution_count": 5,
     "metadata": {},
     "output_type": "execute_result"
    }
   ],
   "source": [
    "V_col = V.reshape(5,1) #Vektor in Spaltenvektor umwandeln\n",
    "V_row = V.reshape(1,5) #Vektor in Zeilenvektor umwandeln\n",
    "V_col, V_row"
   ]
  },
  {
   "cell_type": "code",
   "execution_count": 6,
   "metadata": {},
   "outputs": [
    {
     "data": {
      "text/plain": [
       "(numpy.ndarray, (3, 3), dtype('int32'))"
      ]
     },
     "execution_count": 6,
     "metadata": {},
     "output_type": "execute_result"
    }
   ],
   "source": [
    "#die Matrix/Matritzen  = Tensor 2. Ordnung\n",
    "M = np.array([[1, 2, 3], [4, 5, 6], [7, 8, 9]])\n",
    "type(M), M.shape, M.dtype"
   ]
  },
  {
   "cell_type": "code",
   "execution_count": 7,
   "metadata": {},
   "outputs": [
    {
     "name": "stdout",
     "output_type": "stream",
     "text": [
      "[[[ 1  2  3]\n",
      "  [ 4  5  6]\n",
      "  [ 7  8  9]]\n",
      "\n",
      " [[10 11 12]\n",
      "  [13 14 15]\n",
      "  [16 17 18]]]\n"
     ]
    },
    {
     "data": {
      "text/plain": [
       "(numpy.ndarray, (2, 3, 3), dtype('int32'))"
      ]
     },
     "execution_count": 7,
     "metadata": {},
     "output_type": "execute_result"
    }
   ],
   "source": [
    "#der Tensor 3. Ordnung = eine Sammlung von Matritzen\n",
    "M2 = np.array([[10, 11, 12], [13, 14, 15], [16, 17, 18]])\n",
    "T = np.array([M, M2])\n",
    "print(T)\n",
    "type(T), T.shape, T.dtype"
   ]
  },
  {
   "cell_type": "code",
   "execution_count": 10,
   "metadata": {},
   "outputs": [],
   "source": [
    "#matrix addition\n",
    "M3 = M + M2\n",
    "M4 = M + 5\n",
    "M5 = M - M2\n",
    "M6 = M - 5\n",
    "#M4 und M6 sind Broadcasting"
   ]
  },
  {
   "cell_type": "code",
   "execution_count": null,
   "metadata": {},
   "outputs": [
    {
     "data": {
      "text/plain": [
       "((5,), (1, 5))"
      ]
     },
     "execution_count": 13,
     "metadata": {},
     "output_type": "execute_result"
    }
   ],
   "source": [
    "#Vektor transponieren\n",
    "#eindimensionale Arrays können nicht transponiert werden, aber ein umgeformter Vektor kann\n",
    "V.T.shape, V_col.T.shape"
   ]
  },
  {
   "cell_type": "code",
   "execution_count": 11,
   "metadata": {},
   "outputs": [
    {
     "data": {
      "text/plain": [
       "array([[1, 4, 7],\n",
       "       [2, 5, 8],\n",
       "       [3, 6, 9]])"
      ]
     },
     "execution_count": 11,
     "metadata": {},
     "output_type": "execute_result"
    }
   ],
   "source": [
    "#Matrix transponieren\n",
    "M.T"
   ]
  },
  {
   "cell_type": "code",
   "execution_count": 20,
   "metadata": {},
   "outputs": [
    {
     "data": {
      "text/plain": [
       "(55, 55)"
      ]
     },
     "execution_count": 20,
     "metadata": {},
     "output_type": "execute_result"
    }
   ],
   "source": [
    "#Matrix multiplizieren\n",
    "#skalarpodukt = inneres Produkt = Punktpodukt (dot product)\n",
    "np.dot(V, V), np.dot(V, V.T)"
   ]
  },
  {
   "cell_type": "code",
   "execution_count": 24,
   "metadata": {},
   "outputs": [
    {
     "data": {
      "text/plain": [
       "array([[11, 14, 17, 20],\n",
       "       [23, 30, 37, 44],\n",
       "       [35, 46, 57, 68]])"
      ]
     },
     "execution_count": 24,
     "metadata": {},
     "output_type": "execute_result"
    }
   ],
   "source": [
    "#Matrix multiplizieren\n",
    "#m1 (m x n) * m2 (n x p) = m3 (m x p)\n",
    "M7 = np.array([[1, 2], [3, 4], [5, 6]])\n",
    "M8 = np.array([[1, 2, 3, 4], [5, 6, 7, 8]])\n",
    "np.dot(M7, M8)"
   ]
  },
  {
   "cell_type": "code",
   "execution_count": null,
   "metadata": {},
   "outputs": [],
   "source": []
  }
 ],
 "metadata": {
  "kernelspec": {
   "display_name": "bike",
   "language": "python",
   "name": "python3"
  },
  "language_info": {
   "codemirror_mode": {
    "name": "ipython",
    "version": 3
   },
   "file_extension": ".py",
   "mimetype": "text/x-python",
   "name": "python",
   "nbconvert_exporter": "python",
   "pygments_lexer": "ipython3",
   "version": "3.9.7"
  }
 },
 "nbformat": 4,
 "nbformat_minor": 2
}
