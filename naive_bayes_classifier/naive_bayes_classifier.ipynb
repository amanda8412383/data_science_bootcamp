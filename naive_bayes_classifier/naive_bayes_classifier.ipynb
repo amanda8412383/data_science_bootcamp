{
 "cells": [
  {
   "cell_type": "code",
   "execution_count": 2,
   "metadata": {},
   "outputs": [],
   "source": [
    "import csv\n",
    "import pandas as pd\n",
    "import seaborn as sns"
   ]
  },
  {
   "cell_type": "code",
   "execution_count": 3,
   "metadata": {},
   "outputs": [
    {
     "name": "stdout",
     "output_type": "stream",
     "text": [
      "<class 'pandas.core.frame.DataFrame'>\n",
      "RangeIndex: 154 entries, 0 to 153\n",
      "Data columns (total 4 columns):\n",
      " #   Column          Non-Null Count  Dtype \n",
      "---  ------          --------------  ----- \n",
      " 0   course_name     154 non-null    object\n",
      " 1   lecture_name    154 non-null    object\n",
      " 2   review_rating   154 non-null    int64 \n",
      " 3   review_comment  150 non-null    object\n",
      "dtypes: int64(1), object(3)\n",
      "memory usage: 4.9+ KB\n"
     ]
    }
   ],
   "source": [
    "#datei vermisst deshalb nur test Datei\n",
    "df = pd.read_csv('user_courses_review_test_set.csv')\n",
    "df.describe(include='all')\n",
    "df.info()"
   ]
  },
  {
   "cell_type": "code",
   "execution_count": 4,
   "metadata": {},
   "outputs": [
    {
     "data": {
      "image/png": "[encoded data removed]",
      "text/plain": [
       "<Figure size 576x360 with 1 Axes>"
      ]
     },
     "metadata": {
      "needs_background": "light"
     },
     "output_type": "display_data"
    }
   ],
   "source": [
    "#bewertung plotten\n",
    "import matplotlib.pyplot as plt\n",
    "plt.figure(figsize=(8, 5))\n",
    "plt.hist(df['review_rating'], bins=10, color='skyblue', edgecolor='black')\n",
    "plt.xlabel('Review Rating')\n",
    "plt.ylabel('Frequency')\n",
    "plt.title('Distribution of Review Ratings')\n",
    "plt.grid(axis='y', linestyle='--', alpha=0.7)\n",
    "plt.show()"
   ]
  },
  {
   "cell_type": "code",
   "execution_count": 5,
   "metadata": {},
   "outputs": [
    {
     "data": {
      "text/plain": [
       "(-0.13097697840865802, 0.10542105223526944)"
      ]
     },
     "execution_count": 5,
     "metadata": {},
     "output_type": "execute_result"
    }
   ],
   "source": [
    "#Korrelationen zwischen review_rating und die Länge des review_comments\n",
    "from scipy.stats import pearsonr\n",
    "\n",
    "# die NaN Werte ersetzen\n",
    "df['review_comment'] = df['review_comment'].fillna('')  \n",
    "\n",
    "# die Länge jedes review_comments berechnen\n",
    "df['review_comment_length'] = df['review_comment'].apply(len)\n",
    "\n",
    "# die LKorrelation berechnen\n",
    "correlation, p_value = pearsonr(df['review_rating'], df['review_comment_length'])\n",
    "\n",
    "#es gibt eine negative Korrelation, trotzdem ist der Wert nicht bedeutend\n",
    "correlation, p_value"
   ]
  },
  {
   "cell_type": "code",
   "execution_count": 6,
   "metadata": {},
   "outputs": [
    {
     "data": {
      "text/plain": [
       "Introduction to Data and Data Science                      25\n",
       "Statistics                                                  8\n",
       "SQL                                                         5\n",
       "Introduction to Python                                      5\n",
       "Introduction to Excel                                       5\n",
       "Intro to NLP for AI                                         4\n",
       "Introduction to Jupyter                                     3\n",
       "Intro to ChatGPT and Generative AI                          3\n",
       "Who Does What in Finance                                    3\n",
       "Intermediate Python Programming                             2\n",
       "Data Literacy                                               2\n",
       "Power BI                                                    2\n",
       "Python Programmer Bootcamp                                  2\n",
       "How to Think Like a Data Scientist to Become One            1\n",
       "Data Strategy                                               1\n",
       "Convolutional Neural Networks with TensorFlow in Python     1\n",
       "Mastering Key Performance Indicators (KPIs)                 1\n",
       "Mathematics                                                 1\n",
       "Probability                                                 1\n",
       "Product Management for AI & Data Science                    1\n",
       "Python for Social Media Analytics                           1\n",
       "Data Analysis with Excel Pivot Tables                       1\n",
       "Corporate Strategy                                          1\n",
       "Time Series Analysis with Python                            1\n",
       "Building a 3-Statement Model in Excel                       1\n",
       "Name: course_name, dtype: int64"
      ]
     },
     "execution_count": 6,
     "metadata": {},
     "output_type": "execute_result"
    }
   ],
   "source": [
    "#reg ex benutzen um der Kurs mit den meisten positiven Bewertung herauszufinden\n",
    "\n",
    "import re\n",
    "\n",
    "# ein list von positiven Wörtern definieren\n",
    "positive_words = ['good', 'excellent', 'amazing', 'great', 'fantastic', 'awesome', 'love']\n",
    "\n",
    "# regex Muster erstellen (ignoriert Groß- und Kleinschreibung)\n",
    "positive_pattern = re.compile(r'\\b(' + '|'.join(positive_words) + r')\\b', flags=re.IGNORECASE)\n",
    "\n",
    "# eine neue Spalte erstellen, die angibt, ob ein review positiv ist\n",
    "df['positive_review'] = df['review_comment'].apply(lambda x: bool(positive_pattern.search(x)))\n",
    "\n",
    "# positive Bewertungen filtern\n",
    "positive_reviews = df[df['positive_review']]\n",
    "\n",
    "# positive Bewertungen zählen pro Kurs\n",
    "positive_review_counts = positive_reviews['course_name'].value_counts()\n",
    "\n",
    "\n",
    "positive_review_counts.sort_values(ascending=False)\n",
    "positive_review_counts"
   ]
  },
  {
   "cell_type": "markdown",
   "metadata": {},
   "source": [
    "naive bayes ist \"naive\" weil sie geht davon aus, dass die Ereignisse sind unabhängig\n",
    "\n",
    "### multinomial naive bayes\n",
    "die Häufigkeit von Wörtern wird als Features verwendet\n",
    "### bernoulli naive bayes\n",
    "die Häufigkeit ist irrelevant\n"
   ]
  },
  {
   "cell_type": "code",
   "execution_count": 7,
   "metadata": {},
   "outputs": [
    {
     "name": "stdout",
     "output_type": "stream",
     "text": [
      "Accuracy: 0.6774193548387096\n",
      "\n",
      "Classification Report:\n",
      "               precision    recall  f1-score   support\n",
      "\n",
      "           2       0.00      0.00      0.00         1\n",
      "           3       0.00      0.00      0.00         3\n",
      "           4       0.00      0.00      0.00         6\n",
      "           5       0.68      1.00      0.81        21\n",
      "\n",
      "    accuracy                           0.68        31\n",
      "   macro avg       0.17      0.25      0.20        31\n",
      "weighted avg       0.46      0.68      0.55        31\n",
      "\n"
     ]
    },
    {
     "name": "stderr",
     "output_type": "stream",
     "text": [
      "[nltk_data] Downloading package stopwords to\n",
      "[nltk_data]     C:\\Users\\test\\AppData\\Roaming\\nltk_data...\n",
      "[nltk_data]   Package stopwords is already up-to-date!\n",
      "c:\\Users\\test\\anaconda3\\envs\\bike\\lib\\site-packages\\sklearn\\metrics\\_classification.py:1565: UndefinedMetricWarning: Precision is ill-defined and being set to 0.0 in labels with no predicted samples. Use `zero_division` parameter to control this behavior.\n",
      "  _warn_prf(average, modifier, f\"{metric.capitalize()} is\", len(result))\n",
      "c:\\Users\\test\\anaconda3\\envs\\bike\\lib\\site-packages\\sklearn\\metrics\\_classification.py:1565: UndefinedMetricWarning: Precision is ill-defined and being set to 0.0 in labels with no predicted samples. Use `zero_division` parameter to control this behavior.\n",
      "  _warn_prf(average, modifier, f\"{metric.capitalize()} is\", len(result))\n",
      "c:\\Users\\test\\anaconda3\\envs\\bike\\lib\\site-packages\\sklearn\\metrics\\_classification.py:1565: UndefinedMetricWarning: Precision is ill-defined and being set to 0.0 in labels with no predicted samples. Use `zero_division` parameter to control this behavior.\n",
      "  _warn_prf(average, modifier, f\"{metric.capitalize()} is\", len(result))\n"
     ]
    }
   ],
   "source": [
    "import string\n",
    "from sklearn.feature_extraction.text import TfidfVectorizer\n",
    "from sklearn.model_selection import train_test_split\n",
    "from sklearn.naive_bayes import MultinomialNB\n",
    "from sklearn.metrics import classification_report, accuracy_score\n",
    "from nltk.corpus import stopwords\n",
    "import nltk\n",
    "\n",
    "# Stopwörter herunterladen\n",
    "nltk.download('stopwords')\n",
    "\n",
    "#Schritt 1: Textvorverarbeitung\n",
    "def preprocess_text(text):\n",
    "    # konvertieren in Kleinbuchstaben\n",
    "    text = text.lower()\n",
    "    # Satzzeichen entfernen\n",
    "    text = text.translate(str.maketrans('', '', string.punctuation))\n",
    "    # Stopwörter entfernen\n",
    "    stop_words = set(stopwords.words('english'))\n",
    "    text = ' '.join(word for word in text.split() if word not in stop_words)\n",
    "    return text\n",
    "\n",
    "# preprocessing auf die 'review_comment' Spalte anwenden\n",
    "df['review_comment'] = df['review_comment'].apply(preprocess_text)\n",
    "\n",
    "# Schritt 2: Featureextraktion\n",
    "# konvertieren Textdaten mithilfe des CountVectorizer in eine bag-of-word-Darstellung \n",
    "vectorizer = TfidfVectorizer(stop_words='english') \n",
    "#Tfid gewichtet Wörter nach ihrer Häufigkeit in einem Dokument und Seltenheit in allen Dokumenten\n",
    "#reduziert den Einfluss von häufigen Wörtern z.B. \"the\" und \"is\"\n",
    "X = vectorizer.fit_transform(df['review_comment'])  # Features (bag-of-words)\n",
    "y = df['review_rating']  \n",
    "\n",
    "# Schritt 3: Train-Test spaltung\n",
    "X_train, X_test, y_train, y_test = train_test_split(X, y, test_size=0.2, random_state=42)\n",
    "\n",
    "# Schritt 4: Modell Tranieren\n",
    "model = MultinomialNB()\n",
    "model.fit(X_train, y_train)\n",
    "\n",
    "# Schritt 5: Modell Auswerten\n",
    "y_pred = model.predict(X_test)\n",
    "\n",
    "print(\"Accuracy:\", accuracy_score(y_test, y_pred))\n",
    "print(\"\\nClassification Report:\\n\", classification_report(y_test, y_pred))"
   ]
  },
  {
   "cell_type": "markdown",
   "metadata": {},
   "source": [
    "Classification Report zeigt für jede Klasse:\n",
    "1. $ \\text{Precision} = \\frac{\\text{True Positives}}{\\text{True Positives} + \\text{False Positives}} $\n",
    "\n",
    "    je höher desto weniger falsch positive Fehler\n",
    "\n",
    "2. $ \\text{Recall} = \\frac{\\text{True Positives}}{\\text{True Positives} + \\text{False Negatives}} $\n",
    "\n",
    "    = Sensitivity, je höher desto weniger falsch negative Fehler\n",
    "3. $ \\text{F1-Score} = 2 \\cdot \\frac{\\text{Precision} \\cdot \\text{Recall}}{\\text{Precision} + \\text{Recall}} $\n",
    "\n",
    "    je höher desto besser Ausgleich\n",
    "\n",
    "4. Support: Anzahl der Stichproben\n",
    "\n",
    "Gesamtmetriken: \n",
    "1. $ \\text{Accuracy} = \\frac{\\text{Anzahk der richtigen Vorhersagen}}{\\text{Gesamtzahl der Vorhersagen}} $\n",
    "\n",
    "2. Macro Average: ungewichtete Durchschnitt von precision, recall und f1 über alle Klassen\n",
    "\n",
    "3. Weighted Average: der Durchschnitt von precision, recall und f1 gewichtet nach der Anzahl der Stichprobe in jeder Klasse\n",
    "\n",
    "das Ergebinis zeigt starkes Ungleichgewicht zwichen den Klassen, möglicherweise wegen der Mangel an Stichproben. Um die Leistung zu verbessern, wir können die folgendes versuchen.\n",
    "1. Resampling:\n",
    "    1. Oversampling: verwenden die Minderheitsstichproben mehrmals, aber es kann zu Overfitting führen\n",
    "    2. Undersampling: verringen die  Mehrheitsstichproben, aber es kann Stichproben verschwenden\n",
    "    3. SMOTE (Synthetic Minority Oversampling Technique): Stichproben für Minderheit erstellen mit kleiner Veränderung\n",
    "\n",
    "2. Data Augmentation: Macht kleine Änderung zu Datei um neue Datei zu erstellem und die Datei zu erweiten. z.B. Drehung, umdrehung oder Vergrößen für Bilddatei oder Synonymen und Paraphrasierungen in Textdaten.\n",
    "\n",
    "3. Gewichtete ML Algorithmus verwenden\n",
    "    1. Einleitung von Support vector maschine, durch die Zuweisung unterschiedlicher Kassengewichte wird das Modellempfindlicher gegenüber der Minderheitsklasse.\n",
    "    2. In bezug auf Desicion Tree, kann man die Aufteilungskriterien anpassen"
   ]
  },
  {
   "cell_type": "code",
   "execution_count": 8,
   "metadata": {},
   "outputs": [
    {
     "data": {
      "text/plain": [
       "0.7755102040816326"
      ]
     },
     "execution_count": 8,
     "metadata": {},
     "output_type": "execute_result"
    }
   ],
   "source": [
    "#Oversampling\n",
    "from sklearn.utils import resample\n",
    "from sklearn.pipeline import make_pipeline\n",
    "\n",
    "clean_data=df.copy()\n",
    "# die Mehrheit und Minderheit Klassen trennen\n",
    "df_majority = clean_data[clean_data.review_rating == 5]\n",
    "df_minority = clean_data[clean_data.review_rating < 5]\n",
    "\n",
    "# Upsample minderheit Klasse\n",
    "df_minority_upsampled = resample(df_minority, \n",
    "                                 replace=True,     # Stichproben mit Ersetzung\n",
    "                                 n_samples=len(df_majority),    # zu der Mehrheit Klasse anpassen\n",
    "                                 random_state=42) \n",
    "\n",
    "# Kombinieren der Mehrheit und Minderheit Klassen\n",
    "df_upsampled = pd.concat([df_majority, df_minority_upsampled])\n",
    "\n",
    "\n",
    "# teilt die Daten in Features und Zielvariablen auf\n",
    "X_upsampled = df_upsampled['review_comment']\n",
    "y_upsampled = df_upsampled['review_rating']\n",
    "\n",
    "# teilt die Daten in Trainings- und Testdaten auf\n",
    "X_train_upsampled, X_test_upsampled, y_train_upsampled, y_test_upsampled = train_test_split(\n",
    "    X_upsampled, y_upsampled, test_size=0.2, random_state=42)\n",
    "\n",
    "# Modell trainieren\n",
    "text_clf_upsampled = make_pipeline(vectorizer, model)\n",
    "text_clf_upsampled.fit(X_train_upsampled, y_train_upsampled)\n",
    "\n",
    "# Vorhersagen für die Testdaten\n",
    "y_pred_upsampled = text_clf_upsampled.predict(X_test_upsampled)\n",
    "\n",
    "# Modell auswerten\n",
    "accuracy_score(y_test_upsampled, y_pred_upsampled)"
   ]
  },
  {
   "cell_type": "markdown",
   "metadata": {},
   "source": [
    "denn das Resampling kann das Accuracy nicht wesentlich verbesserte, wenden wir jetzt an binäre klassifizierung statt 5 "
   ]
  },
  {
   "cell_type": "code",
   "execution_count": 9,
   "metadata": {},
   "outputs": [
    {
     "name": "stdout",
     "output_type": "stream",
     "text": [
      "Accuracy: 0.8709677419354839\n",
      "\n",
      "Classification Report:\n",
      "               precision    recall  f1-score   support\n",
      "\n",
      "           0       0.00      0.00      0.00         4\n",
      "           1       0.87      1.00      0.93        27\n",
      "\n",
      "    accuracy                           0.87        31\n",
      "   macro avg       0.44      0.50      0.47        31\n",
      "weighted avg       0.76      0.87      0.81        31\n",
      "\n"
     ]
    },
    {
     "name": "stderr",
     "output_type": "stream",
     "text": [
      "c:\\Users\\test\\anaconda3\\envs\\bike\\lib\\site-packages\\sklearn\\metrics\\_classification.py:1565: UndefinedMetricWarning: Precision is ill-defined and being set to 0.0 in labels with no predicted samples. Use `zero_division` parameter to control this behavior.\n",
      "  _warn_prf(average, modifier, f\"{metric.capitalize()} is\", len(result))\n",
      "c:\\Users\\test\\anaconda3\\envs\\bike\\lib\\site-packages\\sklearn\\metrics\\_classification.py:1565: UndefinedMetricWarning: Precision is ill-defined and being set to 0.0 in labels with no predicted samples. Use `zero_division` parameter to control this behavior.\n",
      "  _warn_prf(average, modifier, f\"{metric.capitalize()} is\", len(result))\n",
      "c:\\Users\\test\\anaconda3\\envs\\bike\\lib\\site-packages\\sklearn\\metrics\\_classification.py:1565: UndefinedMetricWarning: Precision is ill-defined and being set to 0.0 in labels with no predicted samples. Use `zero_division` parameter to control this behavior.\n",
      "  _warn_prf(average, modifier, f\"{metric.capitalize()} is\", len(result))\n"
     ]
    }
   ],
   "source": [
    "\n",
    "\n",
    "# bilden reviews zu binären Klassen ab\n",
    "df['binary_rating'] = df['review_rating'].apply(lambda x: 0 if x <= 3 else 1)\n",
    "\n",
    "# teilen die Daten in Features und Zielvariablen auf\n",
    "X = df['review_comment']  \n",
    "y = df['binary_rating']   \n",
    "\n",
    "# Train-Test aufteilen\n",
    "X_train, X_test, y_train, y_test = train_test_split(X, y, test_size=0.2, random_state=42)\n",
    "\n",
    "# feature extraction\n",
    "vectorizer = TfidfVectorizer(stop_words='english')\n",
    "X_train_tfidf = vectorizer.fit_transform(X_train)\n",
    "X_test_tfidf = vectorizer.transform(X_test)\n",
    "\n",
    "# Modell trainieren\n",
    "model = MultinomialNB()\n",
    "model.fit(X_train_tfidf, y_train)\n",
    "\n",
    "# Vorhersagen für die Testdaten\n",
    "y_pred = model.predict(X_test_tfidf)\n",
    "\n",
    "print(\"Accuracy:\", accuracy_score(y_test, y_pred))\n",
    "print(\"\\nClassification Report:\\n\", classification_report(y_test, y_pred))"
   ]
  },
  {
   "cell_type": "code",
   "execution_count": null,
   "metadata": {},
   "outputs": [
    {
     "data": {
      "image/png": "[encoded data removed]",
      "text/plain": [
       "<Figure size 576x432 with 2 Axes>"
      ]
     },
     "metadata": {
      "needs_background": "light"
     },
     "output_type": "display_data"
    }
   ],
   "source": [
    "\n",
    "from sklearn.metrics import confusion_matrix\n",
    "\n",
    "# Berechnung der Konfusionsmatrix\n",
    "conf_matrix = confusion_matrix(y_test, y_pred)\n",
    "\n",
    "# Plot der Konfusionsmatrix als Heatmap\n",
    "plt.figure(figsize=(8, 6))\n",
    "sns.heatmap(conf_matrix, annot=True, fmt='d', cmap='Blues', xticklabels=['Bad (0)', 'Good (1)'], yticklabels=['Bad (0)', 'Good (1)'])\n",
    "plt.xlabel('Predicted')\n",
    "plt.ylabel('Actual')\n",
    "plt.title('Confusion Matrix Heatmap')\n",
    "plt.show()"
   ]
  },
  {
   "cell_type": "markdown",
   "metadata": {},
   "source": [
    "aufgrund des Fehlens des ursprünglichen Datensatzes haben wir zu wenig Stichproben, deshalb erhalten wir ein zwar verbessertes, aber dennoch nicht ausreichendes Ergebnis"
   ]
  },
  {
   "cell_type": "code",
   "execution_count": null,
   "metadata": {},
   "outputs": [],
   "source": []
  }
 ],
 "metadata": {
  "kernelspec": {
   "display_name": "bike",
   "language": "python",
   "name": "python3"
  },
  "language_info": {
   "codemirror_mode": {
    "name": "ipython",
    "version": 3
   },
   "file_extension": ".py",
   "mimetype": "text/x-python",
   "name": "python",
   "nbconvert_exporter": "python",
   "pygments_lexer": "ipython3",
   "version": "3.9.7"
  }
 },
 "nbformat": 4,
 "nbformat_minor": 2
}
